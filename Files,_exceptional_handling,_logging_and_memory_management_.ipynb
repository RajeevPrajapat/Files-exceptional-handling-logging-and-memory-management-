{
  "nbformat": 4,
  "nbformat_minor": 0,
  "metadata": {
    "colab": {
      "provenance": []
    },
    "kernelspec": {
      "name": "python3",
      "display_name": "Python 3"
    },
    "language_info": {
      "name": "python"
    }
  },
  "cells": [
    {
      "cell_type": "code",
      "execution_count": null,
      "metadata": {
        "id": "Xwep8blqaWsw"
      },
      "outputs": [],
      "source": []
    },
    {
      "cell_type": "markdown",
      "source": [
        "# Python Programming - Answer Sheet\n",
        "\n",
        "---\n",
        "\n",
        "### 1. What is the difference between interpreted and compiled languages?\n",
        "- **Interpreted languages** execute code line-by-line at runtime (e.g., Python).\n",
        "- **Compiled languages** translate code into machine code before execution (e.g., C, C++).\n",
        "\n",
        "---\n",
        "\n",
        "### 2. What is exception handling in Python?\n",
        "- **Exception handling** allows a program to respond to runtime errors gracefully using `try`, `except`, `else`, and `finally` blocks.\n",
        "\n",
        "---\n",
        "\n",
        "### 3. What is the purpose of the finally block in exception handling?\n",
        "- The `finally` block contains code that is always executed, regardless of whether an exception occurred or not, typically used for cleanup.\n",
        "\n",
        "---\n",
        "\n",
        "### 4. What is logging in Python?\n",
        "- **Logging** is the process of recording messages, errors, or important information from a program’s execution, often used for debugging or monitoring.\n",
        "\n",
        "---\n",
        "\n",
        "### 5. What is the significance of the `__del__` method in Python?\n",
        "- The `__del__` method is a destructor that is called when an object is about to be destroyed, used to release resources or perform cleanup.\n",
        "\n",
        "---\n",
        "\n",
        "### 6. What is the difference between `import` and `from ... import` in Python?\n",
        "- `import module` imports the whole module.\n",
        "- `from module import name` imports a specific part of the module (function, class, or variable).\n",
        "\n",
        "---\n",
        "\n",
        "### 7. How can you handle multiple exceptions in Python?\n",
        "- Multiple exceptions can be handled using a tuple inside a single `except` block:\n",
        "```python\n",
        "try:\n",
        "    # code\n",
        "except (TypeError, ValueError) as e:\n",
        "    print(e)\n",
        "---\n",
        "### 8. What is the purpose of the with statement when handling files in Python?\n",
        "\n",
        "   The with statement simplifies file handling by automatically closing the file after its suite finishes, even if exceptions occur.\n",
        "\n",
        "---\n",
        "### 9. What is the difference between multithreading and multiprocessing?\n",
        "\n",
        "Multithreading involves running multiple threads in the same process and is useful for I/O-bound tasks.\n",
        "Multiprocessing runs separate processes for concurrent execution and is suitable for CPU-bound tasks.\n",
        "---\n",
        "### 10. What are the advantages of using logging in a program?\n",
        "Helps in debugging\n",
        "\n",
        "Tracks execution flow\n",
        "\n",
        "Records runtime information\n",
        "\n",
        "Configurable output levels and destinations\n",
        "---\n",
        "### 11. What is memory management in Python?\n",
        "\n",
        "- Python’s memory management includes private heap space, automatic garbage collection, and dynamic memory allocation.\n",
        "---\n",
        "### 12. What are the basic steps involved in exception handling in Python?\n",
        "Wrap risky code in a try block\n",
        "\n",
        "Use except to handle exceptions\n",
        "\n",
        "Use else for code that runs if no exception occurs\n",
        "\n",
        "Use finally to clean up resources\n",
        "---\n",
        "### 13. Why is memory management important in Python?\n",
        "- It ensures efficient use of resources, prevents memory leaks, and improves program stability and performance.\n",
        "---\n",
        "### 14. What is the role of try and except in exception handling?\n",
        "- try contains code that might cause an exception.\n",
        "\n",
        "- except defines how to handle the exception if it occurs.\n",
        "---\n",
        "### 15. How does Python's garbage collection system work?\n",
        "- Python uses reference counting and a cyclic garbage collector to reclaim memory from objects that are no longer in use.\n",
        "---\n",
        "### 16. What is the purpose of the else block in exception handling?\n",
        "- The else block runs only if no exception was raised in the try block.\n",
        "---\n",
        "### 17. What are the common logging levels in Python?\n",
        "- DEBUG – Detailed information for diagnosing problems\n",
        "\n",
        "- INFO – General information about program execution\n",
        "\n",
        "- WARNING – Indicates potential issues\n",
        "\n",
        "- ERROR – Records errors that occurred\n",
        "\n",
        "- CRITICAL – Serious errors that may stop the program\n",
        "---\n",
        "### 18. What is the difference between os.fork() and multiprocessing in Python?\n",
        "\n",
        "- os.fork() is low-level and Unix-specific.\n",
        "\n",
        "- multiprocessing is a high-level, cross-platform module for creating and managing processes.\n",
        "---\n",
        "### 19. What is the importance of closing a file in Python?\n",
        "- It frees up system resources and ensures all data is written to the file.\n",
        "---\n",
        " ### 20. What is the difference between file.read() and file.readline() in Python?\n",
        "- file.read() reads the entire file content as a single string.\n",
        "\n",
        "- file.readline() reads one line from the file at a time.\n",
        "---\n",
        "### 21. What is the logging module in Python used for?\n",
        "- It provides a flexible framework to output status messages from a program to various outputs like console or files.\n",
        "---\n",
        "### 22. What is the os module in Python used for in file handling?\n",
        "- The os module helps interact with the operating system, enabling file handling tasks like deleting, renaming, and checking file existence.\n",
        "---\n",
        "### 23. What are the challenges associated with memory management in Python?\n",
        "- Managing circular references\n",
        "-  Handling large objects efficiently\n",
        "- Avoiding memory leaks in long-running processes\n",
        "---\n",
        "### 24. How do you raise an exception manually in Python?\n",
        "- Use the raise keyword:\n",
        "- raise ValueError(\"This is a manually raised exception\")\n",
        "---\n",
        "### 25. Why is it important to use multithreading in certain applications?\n",
        "- It allows concurrent execution, improves performance in I/O-bound applications, and enhances responsiveness in user interfaces.\n",
        "\n",
        "- Let me know if you want this in `.md` or `.txt` file format for download or use in Colab!\n",
        "\n",
        "---"
      ],
      "metadata": {
        "id": "RjB7vdmKbzlG"
      }
    },
    {
      "cell_type": "code",
      "source": [],
      "metadata": {
        "id": "0nI5qBQgcFx3"
      },
      "execution_count": null,
      "outputs": []
    },
    {
      "cell_type": "markdown",
      "source": [
        "## Practical question"
      ],
      "metadata": {
        "id": "iFYIv3treSfM"
      }
    },
    {
      "cell_type": "code",
      "source": [
        "### 1. How can you open a file for writing in Python and write a string to it?\n",
        "\n",
        "with open('example.txt', 'w') as file:\n",
        "    file.write(\"Hello, this is a sample string.\")\n",
        ""
      ],
      "metadata": {
        "colab": {
          "base_uri": "https://localhost:8080/",
          "height": 106
        },
        "id": "uuM700wFeSqV",
        "outputId": "7295a16d-8bb6-4fa4-9c56-b0dc949b0acc"
      },
      "execution_count": 1,
      "outputs": [
        {
          "output_type": "error",
          "ename": "SyntaxError",
          "evalue": "invalid syntax (<ipython-input-1-b0f8fb896ee4>, line 2)",
          "traceback": [
            "\u001b[0;36m  File \u001b[0;32m\"<ipython-input-1-b0f8fb896ee4>\"\u001b[0;36m, line \u001b[0;32m2\u001b[0m\n\u001b[0;31m    ```python\u001b[0m\n\u001b[0m    ^\u001b[0m\n\u001b[0;31mSyntaxError\u001b[0m\u001b[0;31m:\u001b[0m invalid syntax\n"
          ]
        }
      ]
    },
    {
      "cell_type": "code",
      "source": [
        "### 2. Write a Python program to read the contents of a file and print each line.\n",
        "\n",
        "with open('example.txt', 'r') as file:\n",
        "    for line in file:\n",
        "        print(line.strip())\n"
      ],
      "metadata": {
        "id": "B5CDsVMRe040"
      },
      "execution_count": null,
      "outputs": []
    },
    {
      "cell_type": "code",
      "source": [
        "### 3. How would you handle a case where the file doesn't exist while trying to open it for reading?\n",
        "try:\n",
        "    with open('nonexistent.txt', 'r') as file:\n",
        "        content = file.read()\n",
        "except FileNotFoundError:\n",
        "    print(\"The file does not exist.\")\n"
      ],
      "metadata": {
        "id": "z-Sf6zwEfBpP"
      },
      "execution_count": null,
      "outputs": []
    },
    {
      "cell_type": "code",
      "source": [
        "##4. Write a Python script that reads from one file and writes its content to another file.\n",
        "\n",
        "with open('source.txt', 'r') as src, open('destination.txt', 'w') as dest:\n",
        "    for line in src:\n",
        "        dest.write(line)"
      ],
      "metadata": {
        "id": "fmai6SoDfBst"
      },
      "execution_count": null,
      "outputs": []
    },
    {
      "cell_type": "code",
      "source": [
        "###5. How would you catch and handle division by zero error in Python?\n",
        "\n",
        "try:\n",
        "    result = 10 / 0\n",
        "except ZeroDivisionError:\n",
        "    print(\"You cannot divide by zero!\")"
      ],
      "metadata": {
        "id": "BA2BCYmPfBwI"
      },
      "execution_count": null,
      "outputs": []
    },
    {
      "cell_type": "code",
      "source": [
        "###6. Write a Python program that logs an error message to a log file when a division by zero exception occurs.\n",
        "\n",
        "import logging\n",
        "\n",
        "logging.basicConfig(filename='error.log', level=logging.ERROR)\n",
        "\n",
        "try:\n",
        "    result = 10 / 0\n",
        "except ZeroDivisionError as e:\n",
        "    logging.error(\"Division by zero error: %s\", e)"
      ],
      "metadata": {
        "id": "LK7T9X3nfRc1"
      },
      "execution_count": null,
      "outputs": []
    },
    {
      "cell_type": "code",
      "source": [
        "###7. How do you log information at different levels (INFO, ERROR, WARNING) in Python using the logging module?\n",
        "\n",
        "import logging\n",
        "\n",
        "logging.basicConfig(level=logging.DEBUG)\n",
        "\n",
        "logging.info(\"This is an info message.\")\n",
        "logging.warning(\"This is a warning message.\")\n",
        "logging.error(\"This is an error message.\")"
      ],
      "metadata": {
        "id": "lQMsMLNdfRfh"
      },
      "execution_count": null,
      "outputs": []
    },
    {
      "cell_type": "code",
      "source": [
        "###8. Write a program to handle a file opening error using exception handling.\n",
        "\n",
        "try:\n",
        "    with open('data.txt', 'r') as file:\n",
        "        print(file.read())\n",
        "except FileNotFoundError:\n",
        "    print(\"File not found.\")"
      ],
      "metadata": {
        "id": "b02mRzvNfRiO"
      },
      "execution_count": null,
      "outputs": []
    },
    {
      "cell_type": "code",
      "source": [
        "### 9. How can you read a file line by line and store its content in a list in Python?\n",
        "\n",
        "with open('example.txt', 'r') as file:\n",
        "    lines = file.readlines()\n",
        "\n",
        "print(lines)"
      ],
      "metadata": {
        "id": "8FLGEQngfRun"
      },
      "execution_count": null,
      "outputs": []
    },
    {
      "cell_type": "code",
      "source": [
        "### 10. How can you append data to an existing file in Python?\n",
        "\n",
        "with open('example.txt', 'a') as file:\n",
        "    file.write(\"\\nThis is an appended line.\")"
      ],
      "metadata": {
        "id": "KwLyRwCmfR0o"
      },
      "execution_count": null,
      "outputs": []
    },
    {
      "cell_type": "code",
      "source": [
        "#11. Write a Python program that uses a try-except block to handle an error when attempting to access a dictionary key that doesn't exist\n",
        "my_dict = {\"name\": \"Alice\", \"age\": 25}\n",
        "try:\n",
        "    print(my_dict[\"gender\"])\n",
        "except KeyError:\n",
        "    print(\"Key not found in dictionary.\")"
      ],
      "metadata": {
        "id": "SLiOW0dnfR8A"
      },
      "execution_count": null,
      "outputs": []
    },
    {
      "cell_type": "code",
      "source": [
        "\n",
        "# 12. Write a program that demonstrates using multiple except blocks to handle different types of exceptions\n",
        "try:\n",
        "    x = int(\"abc\")  # This will raise a ValueError\n",
        "    y = 10 / 0      # This would raise a ZeroDivisionError\n",
        "except ValueError:\n",
        "    print(\"A value error occurred.\")\n",
        "except ZeroDivisionError:\n",
        "    print(\"A division by zero error occurred.\")"
      ],
      "metadata": {
        "id": "5xs6MeYgf8M_"
      },
      "execution_count": null,
      "outputs": []
    },
    {
      "cell_type": "code",
      "source": [
        "# 13. How would you check if a file exists before attempting to read it in Python\n",
        "import os\n",
        "file_path = \"example.txt\"\n",
        "if os.path.exists(file_path):\n",
        "    with open(file_path, 'r') as file:\n",
        "        print(file.read())\n",
        "else:\n",
        "    print(\"File does not exist.\")"
      ],
      "metadata": {
        "id": "UWvc3iAQf8QK"
      },
      "execution_count": null,
      "outputs": []
    },
    {
      "cell_type": "code",
      "source": [
        "# 14. Write a program that uses the logging module to log both informational and error messages\n",
        "import logging\n",
        "logging.basicConfig(level=logging.DEBUG, filename='app.log', filemode='w',\n",
        "                    format='%(levelname)s - %(message)s')\n",
        "\n",
        "logging.info(\"Program started\")\n",
        "try:\n",
        "    result = 10 / 0\n",
        "except ZeroDivisionError:\n",
        "    logging.error(\"Attempted division by zero.\")\n"
      ],
      "metadata": {
        "id": "B3QTgH_5f8Ta"
      },
      "execution_count": null,
      "outputs": []
    },
    {
      "cell_type": "code",
      "source": [
        "# 15. Write a program that uses the logging module to log both informational and error messages\n",
        "import logging\n",
        "logging.basicConfig(level=logging.DEBUG, filename='app.log', filemode='w',\n",
        "                    format='%(levelname)s - %(message)s')\n",
        "\n",
        "logging.info(\"Program started\")\n",
        "try:\n",
        "    result = 10 / 0\n",
        "except ZeroDivisionError:\n",
        "    logging.error(\"Attempted division by zero.\")\n"
      ],
      "metadata": {
        "id": "7eFI0PAxf8WF"
      },
      "execution_count": null,
      "outputs": []
    },
    {
      "cell_type": "code",
      "source": [
        "#16. Demonstrate how to use memory profiling to check the memory usage of a small program\n",
        "# (Make sure to install memory_profiler using: pip install memory-profiler)\n",
        "from memory_profiler import profile\n",
        "\n",
        "@profile\n",
        "def create_list():\n",
        "    a = [i for i in range(10000)]\n",
        "    return a\n",
        "\n",
        "create_list()\n"
      ],
      "metadata": {
        "id": "m7vX7rQif8xp"
      },
      "execution_count": null,
      "outputs": []
    },
    {
      "cell_type": "code",
      "source": [
        "#17. Write a Python program to create and write a list of numbers to a file, one number per line\n",
        "numbers = [1, 2, 3, 4, 5]\n",
        "with open('numbers.txt', 'w') as file:\n",
        "    for number in numbers:\n",
        "        file.write(f\"{number}\\n\")"
      ],
      "metadata": {
        "id": "LLjZr8G5f80e"
      },
      "execution_count": null,
      "outputs": []
    },
    {
      "cell_type": "code",
      "source": [
        "#18. How would you implement a basic logging setup that logs to a file with rotation after 1MB?\n",
        "import logging\n",
        "from logging.handlers import RotatingFileHandler\n",
        "\n",
        "logger = logging.getLogger(\"my_logger\")\n",
        "logger.setLevel(logging.INFO)\n",
        "\n",
        "handler = RotatingFileHandler(\"rotating_log.log\", maxBytes=1_000_000, backupCount=3)\n",
        "formatter = logging.Formatter('%(asctime)s - %(levelname)s - %(message)s')\n",
        "handler.setFormatter(formatter)\n",
        "\n",
        "logger.addHandler(handler)\n",
        "logger.info(\"This is an informational message.\")"
      ],
      "metadata": {
        "id": "T0MJz0SFgYHn"
      },
      "execution_count": null,
      "outputs": []
    },
    {
      "cell_type": "code",
      "source": [
        "#19. Write a program that handles both IndexError and KeyError using a try-except block\n",
        "data = [10, 20, 30]\n",
        "dict_data = {\"a\": 1, \"b\": 2}\n",
        "\n",
        "try:\n",
        "    print(data[5])           # May raise IndexError\n",
        "    print(dict_data[\"z\"])    # May raise KeyError\n",
        "except IndexError:\n",
        "    print(\"Index out of range.\")\n",
        "except KeyError:\n",
        "    print(\"Key not found.\")\n",
        "\n"
      ],
      "metadata": {
        "id": "qoe2fRBEgX_S"
      },
      "execution_count": null,
      "outputs": []
    },
    {
      "cell_type": "code",
      "source": [
        "# 20. How would you open a file and read its contents using a context manager in Python?\n",
        "file_path = \"example.txt\"\n",
        "with open(file_path, 'r') as file:\n",
        "    content = file.read()\n",
        "    print(content)"
      ],
      "metadata": {
        "id": "jJW9gZ2UgxuY"
      },
      "execution_count": null,
      "outputs": []
    },
    {
      "cell_type": "code",
      "source": [
        "#21. Write a Python program that reads a file and prints the number of occurrences of a specific word\n",
        "target_word = \"python\"\n",
        "count = 0\n",
        "with open(\"sample.txt\", \"r\") as file:\n",
        "    for line in file:\n",
        "        count += line.lower().split().count(target_word.lower())\n",
        "\n",
        "print(f\"The word '{target_word}' occurred {count} times.\")"
      ],
      "metadata": {
        "id": "5_kPIYQOgX6V"
      },
      "execution_count": null,
      "outputs": []
    },
    {
      "cell_type": "code",
      "source": [
        "#22. How can you check if a file is empty before attempting to read its contents?\n",
        "import os\n",
        "\n",
        "file_name = \"check_empty.txt\"\n",
        "if os.path.exists(file_name) and os.path.getsize(file_name) > 0:\n",
        "    with open(file_name, 'r') as file:\n",
        "        print(file.read())\n",
        "else:\n",
        "    print(\"File is empty or does not exist.\")"
      ],
      "metadata": {
        "id": "tlGJ4mdEgX3G"
      },
      "execution_count": null,
      "outputs": []
    },
    {
      "cell_type": "code",
      "source": [
        "#23. Write a Python program that writes to a log file when an error occurs during file handling\n",
        "import logging\n",
        "\n",
        "logging.basicConfig(filename=\"file_errors.log\", level=logging.ERROR)\n",
        "\n",
        "try:\n",
        "    with open(\"non_existent_file.txt\", 'r') as file:\n",
        "        print(file.read())\n",
        "except FileNotFoundError as e:\n",
        "    logging.error(f\"File handling error: {e}\")"
      ],
      "metadata": {
        "id": "YXd3ZYGZgXz8"
      },
      "execution_count": null,
      "outputs": []
    },
    {
      "cell_type": "code",
      "source": [],
      "metadata": {
        "id": "n00TvZzegXw2"
      },
      "execution_count": null,
      "outputs": []
    }
  ]
}